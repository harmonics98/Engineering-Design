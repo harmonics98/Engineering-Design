{
 "cells": [
  {
   "cell_type": "markdown",
   "id": "b536bf99",
   "metadata": {},
   "source": [
    "\n",
    "# 2. 실습 환경 설정과 파이토치 기초\n"
   ]
  },
  {
   "cell_type": "markdown",
   "id": "f470206a",
   "metadata": {},
   "source": [
    "## 2.0 환경구축"
   ]
  },
  {
   "cell_type": "markdown",
   "id": "a79febc4",
   "metadata": {},
   "source": [
    "### 2.0.1 아나콘다 설치"
   ]
  },
  {
   "cell_type": "markdown",
   "id": "3af6e846",
   "metadata": {},
   "source": [
    "웹 사이트 : http://www.anaconda/com/products/individual\n",
    "* 파이토리와의 호환성문제로 인하여 설치 시 3.9 버전으로 합니다."
   ]
  },
  {
   "cell_type": "markdown",
   "id": "03131837",
   "metadata": {},
   "source": [
    "### 2.0.2 가상환경"
   ]
  },
  {
   "cell_type": "markdown",
   "id": "44712374",
   "metadata": {},
   "source": [
    "####  가상환경 확인"
   ]
  },
  {
   "cell_type": "markdown",
   "id": "de55e6a8",
   "metadata": {},
   "source": [
    "* conda env list\n",
    "\n",
    "![nn](./02_env_list_01.png)\n",
    "\n",
    "<img src=\"https://github.com/harmonics98/Engineering-Design/blob/main/02_env_list_01.png\"></img>"
   ]
  },
  {
   "cell_type": "markdown",
   "id": "7e073796",
   "metadata": {},
   "source": [
    "####  가상 환경 생성"
   ]
  },
  {
   "cell_type": "markdown",
   "id": "84cef910",
   "metadata": {},
   "source": [
    "* conda create -n [환경명] python=[버전]\n",
    "> conda create -n torch_book python=3.9\n",
    "* conda env list\n",
    "\n",
    "<img src=\"03_env_list_02.png\" width = 600></img>"
   ]
  },
  {
   "cell_type": "markdown",
   "id": "502e5160",
   "metadata": {},
   "source": [
    "####  가상 환경 활성화"
   ]
  },
  {
   "cell_type": "markdown",
   "id": "74820077",
   "metadata": {},
   "source": [
    "* conda activate [환경명]\n",
    "    > conda activate torch_book\n",
    "    \n",
    "<img src=\"04_active_env.png\" width = 600></img>\n",
    "가상환경 비활성화\n",
    "* conda deactivate"
   ]
  },
  {
   "cell_type": "markdown",
   "id": "9c85e195",
   "metadata": {},
   "source": [
    "#### 가상 환경 삭제"
   ]
  },
  {
   "cell_type": "markdown",
   "id": "8ad4d4c4",
   "metadata": {},
   "source": [
    "삭제하고자 하는 환경의 상위에서, 이 시점에서는 base에서 작업해야 합니다.  \n",
    "* conda env remove -n [환경명]"
   ]
  },
  {
   "cell_type": "markdown",
   "id": "65df5795",
   "metadata": {},
   "source": [
    "####  커널 설치"
   ]
  },
  {
   "cell_type": "markdown",
   "id": "c1a95e30",
   "metadata": {},
   "source": [
    "가상 환경을 활성화 한 후 커널을 설치합니다.\n",
    "* pip install ipykernel\n",
    "\n",
    "이어서 커널을 연결합니다.\n",
    "* python -m ipykernel install --user --name torch_book --display-name \"torch_book\""
   ]
  },
  {
   "cell_type": "markdown",
   "id": "c0cf6634",
   "metadata": {},
   "source": [
    "#### 파이토치 설치하기"
   ]
  },
  {
   "cell_type": "markdown",
   "id": "cbe8f540",
   "metadata": {},
   "source": [
    "패키지의 분리를 위해 생성한 가상환경 아래에서 설치합시다.  \n",
    "책과의 호환을 맞추기 위해 책에서 요구하는 버전으로 설치합니다.  \n",
    "\n",
    "다음은 CPU만을 이용하여 파이토치를 사용하는 경우 설치하는 명령어 입니다.  \n",
    "\n",
    "* conda install pytorch==1.9.0 torchvision=0.10.0 torchaudio==0.9.0 -c pytorch  \n",
    "\n",
    "  \n",
    "만약 GPU를 사용하여 파이토치를 사용하는 경우 CUDA와 cuDNN을 설치한 후 다음 명령어를 입력합니다. (세부사항은 8장 성능 최적화에 있습니다.)\n",
    "* conda install pytorch torchivision torchaudio cudatoolkit=11.3 -c pytorch"
   ]
  },
  {
   "cell_type": "markdown",
   "id": "b62d8401",
   "metadata": {},
   "source": [
    "#### Jupyter notebook 설치와 실행"
   ]
  },
  {
   "cell_type": "markdown",
   "id": "43525fde",
   "metadata": {},
   "source": [
    "jupyter notebook이 설치 되어 있는 데 왜 다시 설치하냐는 의문점이 생길 수 있습니다.  \n",
    "현재 사용 중인 jupyter notebook은 \"base\" 에 설치되어 있는 jupyter notebook으로 가상환경 내에는 jupyter notebook이 설치되어 있지 않습니다. \n",
    "실제로 conda list로 검색 시 jupyter가 존재하지 않습니다.  \n",
    "\n",
    "* pip install jupyter notebook\n",
    "  \n",
    "  \n",
    "  \n",
    "* jupyter notebook\n",
    "\n",
    "실행 이후 Kernel - change Kernel을 통해 가상환경의 kernel로 변경합니다.\n",
    "<img src=\"2-7.png\" width = 600></img>"
   ]
  },
  {
   "cell_type": "markdown",
   "id": "70e472c6",
   "metadata": {},
   "source": [
    "## 2.1 파이토치\n",
    "\n",
    "> 2017년 초에 공개된 딥러닝 프레임 워크로, 과학 연산을 위한 라이브러리에서 시작되어 딥러닝 프레임워크로 발전한 것"
   ]
  },
  {
   "cell_type": "markdown",
   "id": "66aabfa6",
   "metadata": {},
   "source": [
    "###  파이토치의 특징"
   ]
  },
  {
   "cell_type": "markdown",
   "id": "ef743482",
   "metadata": {},
   "source": [
    "> GPU에서 텐서 조작 및 동적 신경망 구축이 가능한 프레임 워크\n",
    "\n",
    "* GPU \n",
    "    * API CUDA, cuDNN 연산에 사용\n",
    "    \n",
    "    \n",
    "* 동적 신경망\n",
    "    * 훈련이 반복 될 때 네트워크의 변경, 업데이트가 가능한 신경망\n",
    "    \n",
    "    \n",
    "* Tensor\n",
    "    * 파이토치의 데이터 형태\n",
    "    * 단일 데이터 형식의 다차원 행렬\n",
    "    * 명령어의 추가로 GPU 연산 수행\n",
    "    > 코드 | 축 | 표현  \n",
    "    axis 0 = 행 = 벡터  \n",
    "    axis 1 = 열 = 행렬  \n",
    "    axis 2 = 채널 = 텐서\n",
    "    \n",
    "    텐서는 같은 형태의 행렬이 묶인 것\n",
    "\n"
   ]
  },
  {
   "cell_type": "markdown",
   "id": "24ebb868",
   "metadata": {},
   "source": [
    "### 2.1.2 파이토치의 장점"
   ]
  },
  {
   "cell_type": "markdown",
   "id": "4247ee9d",
   "metadata": {},
   "source": [
    "* 단순함(효율적인 계산)\n",
    "* 성능(낮은 CPU 활용)\n",
    "* 직관적인 인터페이스"
   ]
  },
  {
   "cell_type": "markdown",
   "id": "44970497",
   "metadata": {},
   "source": [
    "### 2.1.3 파이토치 아키텍처"
   ]
  },
  {
   "cell_type": "markdown",
   "id": "ed0470eb",
   "metadata": {},
   "source": [
    "파이토치의 전체적인 계층은 3가지로 이루어집니다.\n",
    "* 파이토치 API\n",
    "* 파이토치 엔진 : Autograd C++, Aten C++, JIT C++, Python API로 구성\n",
    "* 연산처리 : 대부분의 계산을 수행"
   ]
  },
  {
   "cell_type": "markdown",
   "id": "37cc3ef4",
   "metadata": {},
   "source": [
    "#### 파이토치 API\n",
    "사용자가 다루는 API를 제공하는 계층으로 API를 통해 인터페이스를 제공하고 파이토치 엔진으로 작업을   전달합니다.\n",
    "* torch : GPU를 지원하는 텐서 패키지. 텐서의 수학적 연산이 가능하도록 하는 패키지\n",
    "* torch.autograd : 자동 미분 패키지. 변경사항을 즉시 계산하는 패키지\n",
    "* torch.nn : 신경만 구축 및 훈련 패키지.\n",
    "* torch.multiprocessing : 파이썬 멀티 프로세싱 패키지.\n",
    "* torch.utils : 기타 유틸리티를 제공하는 패키지. 주로 사용하는 DataLoader,bottleneck,checkpoint 모듈"
   ]
  },
  {
   "cell_type": "markdown",
   "id": "0cb82d72",
   "metadata": {},
   "source": [
    "### 2.1.4 스토리지"
   ]
  },
  {
   "cell_type": "markdown",
   "id": "5e8c7eaa",
   "metadata": {},
   "source": [
    "텐서가 메모리에 저장될 때는 1차원 배열의 형태로 저장이 됩니다. 이 때 오프셋과 스트라이드라는 개념이 나옵니다.  \n",
    "오프셋과 스트라이드가 나온 이유는 텐서를 구분하기 위함입니다.\n",
    "* 오프셋(offset) : 텐서의 첫번째 요소가 저장된 인덱스\n",
    "* 스트라이드(stride) : 차원을 넘어 다음 요소를 얻기 위해 넘어야 하는 요소의 개수\n",
    "<img src=\"2-6.png\" width = 600></img>\n",
    "위의 그림에서 1차원으로 된 배열의 값은 동일합니다. offset은 이번 경우 동일하게 1입니다.  \n",
    "$A$의 경우 다음 차원인 4를 얻기 위해서는 3개의 요소(1,2,3)을 넘어야 합니다 이에 따라 스트라이드는 (3,1)입니다.  \n",
    "반면 $A^T$의 경우 다음 차원인 2를 얻기 위해서는 2개의 요소(1,4)를 넘어야 하므로 스트라이드는 (2,1)입니다.  \n",
    "위와 같이 오프셋을 통해 텐서의 시작을, 스트라이드를 통해 행렬/텐서의 형태를 구분할 수 있습니다."
   ]
  },
  {
   "cell_type": "markdown",
   "id": "169e256a",
   "metadata": {},
   "source": [
    "## 2.2 파이토치 문법"
   ]
  },
  {
   "cell_type": "code",
   "execution_count": 1,
   "id": "bc57ff9f",
   "metadata": {},
   "outputs": [],
   "source": [
    "import torch\n",
    "import numpy as np"
   ]
  },
  {
   "cell_type": "markdown",
   "id": "24c6049b",
   "metadata": {},
   "source": [
    "### 텐서 생성과 변환"
   ]
  },
  {
   "cell_type": "markdown",
   "id": "8b0345ea",
   "metadata": {},
   "source": [
    "* torch.tensor()\n",
    "* torch.FloatTensor() : 32비트의 부동 소수점\n",
    "* torch.DoubleTensor() : 64비트의 부동 소수점\n",
    "* torch.LongTensor() : 64비트의 부호가 있는 정수\n",
    "\n",
    "생성 시 설정으로 device = \"\" 로 GPU 같은 기기에 생성을, dtype=torch.float64 로 dtype으로 설정할 수 있습니다. "
   ]
  },
  {
   "cell_type": "code",
   "execution_count": 2,
   "id": "705fa0b1",
   "metadata": {},
   "outputs": [
    {
     "name": "stdout",
     "output_type": "stream",
     "text": [
      "tensor([[1, 2],\n",
      "        [3, 4]]) \n",
      "\n",
      " tensor([[3, 4],\n",
      "        [1, 2],\n",
      "        [5, 6]])\n"
     ]
    }
   ],
   "source": [
    "a = torch.tensor([[1,2],[3,4]])\n",
    "\n",
    "b = torch.tensor([[3,4],[1,2],[5,6]])\n",
    "\n",
    "print(a,\"\\n\\n\",b)"
   ]
  },
  {
   "cell_type": "markdown",
   "id": "ecd8d2cf",
   "metadata": {},
   "source": [
    "텐서와 ndarry 간의 변경"
   ]
  },
  {
   "cell_type": "code",
   "execution_count": 3,
   "id": "1fd7dfd3",
   "metadata": {},
   "outputs": [
    {
     "name": "stdout",
     "output_type": "stream",
     "text": [
      "[[1 2]\n",
      " [3 4]]\n",
      "--------------\n",
      "tensor([[1, 2],\n",
      "        [3, 4]])\n"
     ]
    }
   ],
   "source": [
    "c = a.numpy()\n",
    "\n",
    "print(c)\n",
    "print('--------------')\n",
    "c = torch.from_numpy(c)\n",
    "print(c)\n"
   ]
  },
  {
   "cell_type": "markdown",
   "id": "147f3e68",
   "metadata": {},
   "source": [
    "### 텐서의 인덱스 조작"
   ]
  },
  {
   "cell_type": "markdown",
   "id": "76bc83c2",
   "metadata": {},
   "source": [
    "텐서의 인덱스는 배열과 비슷하게 접근할 수 있습니다.  \n",
    "배열에서 슬라이싱과 인덱스 번호로 지정하듯이, 텐서에서도 동일합니다. "
   ]
  },
  {
   "cell_type": "code",
   "execution_count": 4,
   "id": "8b3e16e4",
   "metadata": {},
   "outputs": [
    {
     "name": "stdout",
     "output_type": "stream",
     "text": [
      "tensor([[1, 2],\n",
      "        [3, 4]])\n",
      "tensor([1, 2]) tensor(2) tensor(4)\n",
      "------------\n",
      "tensor([[1, 2],\n",
      "        [3, 4]])\n"
     ]
    }
   ],
   "source": [
    "print(a)\n",
    "print(a[0], a[0][1],a[1][1])\n",
    "print('------------')\n",
    "print(a[0:2])"
   ]
  },
  {
   "cell_type": "markdown",
   "id": "9ed3619d",
   "metadata": {},
   "source": [
    "### 텐서의 연산"
   ]
  },
  {
   "cell_type": "markdown",
   "id": "31633314",
   "metadata": {},
   "source": [
    "텐서는 배열과 동일하게 수학연산이 가능합니다.  \n",
    "다만, 타입과 열의 개수가 다르면 불가능합니다."
   ]
  },
  {
   "cell_type": "code",
   "execution_count": 5,
   "id": "8ba5c088",
   "metadata": {},
   "outputs": [
    {
     "name": "stdout",
     "output_type": "stream",
     "text": [
      "tensor([2, 2, 3])\n",
      "tensor([[0, 1, 4],\n",
      "        [2, 2, 3]])\n"
     ]
    }
   ],
   "source": [
    "v = torch.tensor([1,2,3])\n",
    "w = torch.tensor([3,4,6])\n",
    "z = torch.tensor([[3,3,2],[1,2,3]])\n",
    "x = torch.tensor([[3,3],[1,2]])\n",
    "\n",
    "print(w-v)\n",
    "print(w-z)\n",
    "# print(x-w) # 에러 "
   ]
  },
  {
   "cell_type": "markdown",
   "id": "c7235ae5",
   "metadata": {},
   "source": [
    "### 텐서의 차원조작"
   ]
  },
  {
   "cell_type": "markdown",
   "id": "6a928e5c",
   "metadata": {},
   "source": [
    "텐서의 차원은 신경망을 조작하며, 자주 다루어집니다.  \n",
    "방법으로는 다음이 있습니다.\n",
    "* view(shape) : 형태의 변경\n",
    "* stack(tensor, dim) : 텐서들의 결합\n",
    "* transpose(tensor, dim0, dim1) : 텐서의 전치\n",
    "* cat(tensors, dim) : 텐서들의 결합  \n"
   ]
  },
  {
   "cell_type": "code",
   "execution_count": 6,
   "id": "646aad4f",
   "metadata": {},
   "outputs": [
    {
     "name": "stdout",
     "output_type": "stream",
     "text": [
      "tensor([[1, 2],\n",
      "        [3, 4]])\n",
      "tensor([[5, 6],\n",
      "        [7, 8]])\n",
      "----view----\n",
      "tensor([[1],\n",
      "        [2],\n",
      "        [3],\n",
      "        [4]])\n",
      "tensor([[1, 2],\n",
      "        [3, 4]])\n",
      "----stack----\n",
      "[[[1 2]\n",
      "  [5 6]]\n",
      "\n",
      " [[3 4]\n",
      "  [7 8]]]\n",
      "--transpose--\n",
      "tensor([[1, 3],\n",
      "        [2, 4]])\n",
      "-----cat-----\n",
      "tensor([[1, 2],\n",
      "        [3, 4],\n",
      "        [5, 6],\n",
      "        [7, 8]])\n",
      "tensor([[1, 2, 5, 6],\n",
      "        [3, 4, 7, 8]])\n"
     ]
    }
   ],
   "source": [
    "a = torch.tensor([[1,2],[3,4]])\n",
    "b = torch.tensor([[5,6],[7,8]])\n",
    "print(a)\n",
    "print(b)\n",
    "print('----view----')\n",
    "print(a.view(4,1))\n",
    "print(a.view(2,2))\n",
    "print('----stack----')\n",
    "print(np.stack((a,b),axis=1))\n",
    "print('--transpose--')\n",
    "print(a.transpose(0,1))\n",
    "print('-----cat-----')\n",
    "print(torch.cat((a,b),0))\n",
    "print(torch.cat((a,b),1))"
   ]
  },
  {
   "cell_type": "markdown",
   "id": "058ec33a",
   "metadata": {},
   "source": [
    "### 데이터 준비"
   ]
  },
  {
   "cell_type": "markdown",
   "id": "fab0dfc7",
   "metadata": {},
   "source": [
    "파이토치에서 데이트호출은 파이썬 라이브러리 (pandas)를 이용하는 방법과 파이토치에서 제공하는 방법이 있습니다.  \n",
    "데이터 이미지인 경우 전처리 후 배치단위로 분할 처리하며, 텍스트인 경우 임베딩을 걸쳐 서로 다른 길이의 시퀸스 단위로 분할 처리 합니다.  "
   ]
  },
  {
   "cell_type": "markdown",
   "id": "4414b193",
   "metadata": {},
   "source": [
    "### 파이토치에서 제공하는 데이터셋"
   ]
  },
  {
   "cell_type": "markdown",
   "id": "fffc143a",
   "metadata": {},
   "source": [
    "파이토치에서는 MNIST, ImageNet을 포함하여 여러가지 데이터셋을 제공하고 있으며, https://pytorch.org/vision/0.8/datasets.html 에서 확인할 수 있습니다.  \n",
    "파이토치에서 제공하는 데이터셋은 requests 라이브러리를 요구합니다. "
   ]
  },
  {
   "cell_type": "markdown",
   "id": "83b5ac6c",
   "metadata": {},
   "source": [
    "### 커스텀 데이터셋"
   ]
  },
  {
   "cell_type": "markdown",
   "id": "b7e8e5ce",
   "metadata": {},
   "source": [
    "딥러닝 시 데이터를 한번에 대량으로 가져가면 비용 측면에서 비효율적입니다.  \n",
    "따라서 데이터를 나눠서 호출하는 것이 효율적이며 이 방식을 커스텀 데이터 셋이라고 부릅니다.  \n",
    "CustomDataset 클래스는 다음의 형태를 취해야 합니다.\n",
    "> class CustomDataset(torch.utils.data.Dataset):  \n",
    "    def __init __(self):  \n",
    "    def __len __(self):  \n",
    "    def __getitem __(self, index):  "
   ]
  },
  {
   "cell_type": "markdown",
   "id": "9600e9ae",
   "metadata": {},
   "source": [
    "## 2.3 모델 정의"
   ]
  },
  {
   "cell_type": "markdown",
   "id": "4a55e6b3",
   "metadata": {},
   "source": [
    "* 계층 : 모듈 또는 모델을 구성하는 한 개의 작업으로, 입력, 출력, 정규화를 포함해 합성곱층 선경계층 등이 있습니다.\n",
    "* 모듈 : 한 개 이상의 계층이 모인 구성체입니다.\n",
    "* 모델 : 최종 완성된 네트워크입니다."
   ]
  },
  {
   "cell_type": "markdown",
   "id": "ffc44028",
   "metadata": {},
   "source": [
    "### 단순신경망을 정의하는 법"
   ]
  },
  {
   "cell_type": "markdown",
   "id": "cf8b2dcb",
   "metadata": {},
   "source": [
    "단순신경망은 nn.Module을 상속받지 않습니다."
   ]
  },
  {
   "cell_type": "code",
   "execution_count": 7,
   "id": "f262a1bc",
   "metadata": {},
   "outputs": [],
   "source": [
    "import torch.nn as nn\n",
    "model = nn.Linear(in_features=1, out_features=1, bias=True)\n"
   ]
  },
  {
   "cell_type": "markdown",
   "id": "743f0ab3",
   "metadata": {},
   "source": [
    "### nn.Module 상속하여 정의"
   ]
  },
  {
   "cell_type": "markdown",
   "id": "dfcac793",
   "metadata": {},
   "source": [
    "nn.Module 을 상속하는 경우 상속받은 모듈의 형태는 다음의 형태를 지닙니다."
   ]
  },
  {
   "cell_type": "code",
   "execution_count": 8,
   "id": "0bbe7c88",
   "metadata": {},
   "outputs": [],
   "source": [
    "class MLP(nn.Module):  \n",
    "    def __init__(self, inputs): # 모델에서 사용될 모듈, 계층 정의, 활성화 함수 정의\n",
    "        super(MLP, self).__init__()  \n",
    "        self.layer = Linear(inputs, 1) \n",
    "        self.activation = Sigmoid() # 활성화 함수\n",
    "        \n",
    "    def forward(self, X): # 모델에서 수행할 연산\n",
    "        X = self.layer(X)  \n",
    "        X = self.activation(X)  \n",
    "        return X  "
   ]
  },
  {
   "cell_type": "markdown",
   "id": "917f5d7c",
   "metadata": {},
   "source": [
    "### Sequential 신경망 정의"
   ]
  },
  {
   "cell_type": "markdown",
   "id": "621c08e3",
   "metadata": {},
   "source": [
    "nn.Sequential 은 nn.module에 더해서 forward 에서 좀 더 가독성 있게 작성할 수 있으며, 포함된 각 모듈을 순차적으로 실행시켜 줍니다."
   ]
  },
  {
   "cell_type": "code",
   "execution_count": 9,
   "id": "54a8b82a",
   "metadata": {},
   "outputs": [
    {
     "name": "stdout",
     "output_type": "stream",
     "text": [
      "Printing children\n",
      "------------------------------\n",
      "[Sequential(\n",
      "  (0): Conv2d(3, 64, kernel_size=(5, 5), stride=(1, 1))\n",
      "  (1): ReLU(inplace=True)\n",
      "  (2): MaxPool2d(kernel_size=2, stride=2, padding=0, dilation=1, ceil_mode=False)\n",
      "), Sequential(\n",
      "  (0): Conv2d(64, 30, kernel_size=(5, 5), stride=(1, 1))\n",
      "  (1): ReLU(inplace=True)\n",
      "  (2): MaxPool2d(kernel_size=2, stride=2, padding=0, dilation=1, ceil_mode=False)\n",
      "), Sequential(\n",
      "  (0): Linear(in_features=750, out_features=10, bias=True)\n",
      "  (1): ReLU(inplace=True)\n",
      ")]\n",
      "\n",
      "\n",
      "Printing Modules\n",
      "------------------------------\n",
      "[MLP(\n",
      "  (layer1): Sequential(\n",
      "    (0): Conv2d(3, 64, kernel_size=(5, 5), stride=(1, 1))\n",
      "    (1): ReLU(inplace=True)\n",
      "    (2): MaxPool2d(kernel_size=2, stride=2, padding=0, dilation=1, ceil_mode=False)\n",
      "  )\n",
      "  (layer2): Sequential(\n",
      "    (0): Conv2d(64, 30, kernel_size=(5, 5), stride=(1, 1))\n",
      "    (1): ReLU(inplace=True)\n",
      "    (2): MaxPool2d(kernel_size=2, stride=2, padding=0, dilation=1, ceil_mode=False)\n",
      "  )\n",
      "  (layer3): Sequential(\n",
      "    (0): Linear(in_features=750, out_features=10, bias=True)\n",
      "    (1): ReLU(inplace=True)\n",
      "  )\n",
      "), Sequential(\n",
      "  (0): Conv2d(3, 64, kernel_size=(5, 5), stride=(1, 1))\n",
      "  (1): ReLU(inplace=True)\n",
      "  (2): MaxPool2d(kernel_size=2, stride=2, padding=0, dilation=1, ceil_mode=False)\n",
      "), Conv2d(3, 64, kernel_size=(5, 5), stride=(1, 1)), ReLU(inplace=True), MaxPool2d(kernel_size=2, stride=2, padding=0, dilation=1, ceil_mode=False), Sequential(\n",
      "  (0): Conv2d(64, 30, kernel_size=(5, 5), stride=(1, 1))\n",
      "  (1): ReLU(inplace=True)\n",
      "  (2): MaxPool2d(kernel_size=2, stride=2, padding=0, dilation=1, ceil_mode=False)\n",
      "), Conv2d(64, 30, kernel_size=(5, 5), stride=(1, 1)), ReLU(inplace=True), MaxPool2d(kernel_size=2, stride=2, padding=0, dilation=1, ceil_mode=False), Sequential(\n",
      "  (0): Linear(in_features=750, out_features=10, bias=True)\n",
      "  (1): ReLU(inplace=True)\n",
      "), Linear(in_features=750, out_features=10, bias=True), ReLU(inplace=True)]\n"
     ]
    }
   ],
   "source": [
    "import torch.nn as nn\n",
    "class MLP(nn.Module):\n",
    "    def __init__(self):\n",
    "        super(MLP, self).__init__()\n",
    "        self.layer1 = nn.Sequential(\n",
    "            nn.Conv2d(in_channels=3, out_channels=64, kernel_size=5),\n",
    "            nn.ReLU(inplace=True),\n",
    "            nn.MaxPool2d(2))\n",
    "\n",
    "        self.layer2 = nn.Sequential(\n",
    "            nn.Conv2d(in_channels=64, out_channels=30, kernel_size=5),\n",
    "            nn.ReLU(inplace=True),\n",
    "            nn.MaxPool2d(2))\n",
    "\n",
    "        self.layer3 = nn.Sequential(\n",
    "            nn.Linear(in_features=30*5*5, out_features=10, bias=True),\n",
    "            nn.ReLU(inplace=True))\n",
    "\n",
    "\n",
    "        def forward(self, x):\n",
    "            x = self.layer1(x)\n",
    "            x = self.layer2(x)\n",
    "            x = x.view(x.shape[0], -1)\n",
    "            x = self.layer3(x)\n",
    "            return x\n",
    "model = MLP()\n",
    "print(\"Printing children\\n------------------------------\")\n",
    "print(list(model.children()))\n",
    "print(\"\\n\\nPrinting Modules\\n------------------------------\")\n",
    "print(list(model.modules()))"
   ]
  },
  {
   "cell_type": "markdown",
   "id": "2997f971",
   "metadata": {},
   "source": [
    "### 함수로 신경망을 정의"
   ]
  },
  {
   "cell_type": "markdown",
   "id": "75fea094",
   "metadata": {},
   "source": [
    "함수로 선언할 때는 변수에 저장된 계층을 재사용 할 수 있지만, 복잡해질 경우 예기치 못한 오류가 발생할 수 있습니다.  \n",
    "이 경우 활성화 함수는 모델을 정의할 때 지정하게 됩니다."
   ]
  },
  {
   "cell_type": "markdown",
   "id": "0325a9f0",
   "metadata": {},
   "source": [
    "## 모델의 파라미터"
   ]
  },
  {
   "cell_type": "markdown",
   "id": "c147e6d8",
   "metadata": {},
   "source": [
    "모델에 사용되는 파라미터에는 손실함수, 옵티마이저, 학습률 스케줄러가 있습니다."
   ]
  },
  {
   "cell_type": "markdown",
   "id": "781a39ce",
   "metadata": {},
   "source": [
    "### 손실 함수"
   ]
  },
  {
   "cell_type": "markdown",
   "id": "7257d277",
   "metadata": {},
   "source": [
    "손실함수는 이번 학습에서의 출력값과 실제값과의 오차를 측정하는 것입니다.  \n",
    "종류로는 3가지를 자주 사용합니다.  \n",
    "* BCELoss: 이진 분류를 위해 사용  \n",
    "* CrossEntropyLoss: 다중 클래스 분류를 위해 사용  \n",
    "* MSELoss: 회귀 모델에서 사용  \n",
    "\n",
    "\n",
    "> 교과서에서의 wx+b가 출력값인데 이는 Linear Regression에서 사용되는 학습방정식으로 1차직선입니다.  \n",
    "기울기(가중치) w, bias b를 뜻합니다.  \n"
   ]
  },
  {
   "cell_type": "markdown",
   "id": "c247081d",
   "metadata": {},
   "source": [
    "### 옵티마이저"
   ]
  },
  {
   "cell_type": "markdown",
   "id": "acb9b75d",
   "metadata": {},
   "source": [
    "데이터와 손실 함수를 바탕으로 모델의 업데이트 방법을 결정하는 파라미터입니다.  \n",
    "* step()으로 전달받은 파라미터를 업데이트\n",
    "* 파라미터별 다른 기준 적용\n",
    "* zero_grad()로 모든 파라미터의 기울기를 0으로 설정\n",
    "* lr_schduler를 통해 에포크(학습횟수)에 따라 학습률 조절\n",
    "\n",
    "사용되는 종류는 다음과 같습니다.\n",
    "* optim.Adadelta, optim.Adagrad, optim.Adam, optim.SparseAdam, optim.Adamax\n",
    "* optim.ASGD, optim.LBFGS\n",
    "* optim.RMSProp, optim.Rprop, optim.SGD\n"
   ]
  },
  {
   "cell_type": "markdown",
   "id": "d0aeba01",
   "metadata": {},
   "source": [
    "### 학습률 스케줄러"
   ]
  },
  {
   "cell_type": "markdown",
   "id": "73920fe5",
   "metadata": {},
   "source": [
    "사전 지정된 에포크를 지나면 학습률을 감소시킵니다. 빠른 학습을 진행하다 일정 지점 후 학습률을 감소시켜 세세한 학습을 통해 최적점을 찾아갈 수 있도록 합니다.  \n",
    "종류는 다음과 같습니다.  \n",
    "* optim.lr_scheduler.LambdaLR: 람다(lambda) 함수를 이용하여 그 함수의 결과를 학습률로 설정합니다.\n",
    "* optim.lr_scheduler.StepLR: 특정 단계마다 학습률을 특정 비율만큼 감소시킵니다.\n",
    "* optim.lr_scheduler.MultiStepLR: 지정된 에포크에만 특정 비율로 감소시킵니다.\n",
    "* optim.lr_scheduler.ExponentialLR: 에포크마다 이전 학습률에 특정 비율만큼 곱합니다.\n",
    "* optim.lr_scheduler.CosineAnnealingLR: 학습률을 코사인함수의 형태처럼 변화시킵니다.\n",
    "* optim.lr_scheduler.ReduceLROnPlateau: 동적으로 학습률을 변화시킬 수 있습니다.\n",
    "\n",
    "> 전역 최소점, 최적점, 지역 최소점  \n",
    "<img src=\"2-8.png\" width = 300></img>\n",
    "붉은 동그라미는 경사하강법 전역 최소점이자 최적점입니다.  \n",
    "주황 동그라미는 전역 최소점을 찾아가는 과정에서 만나는 최소점이지만, 최적점이 아닌 지역최소점입니다."
   ]
  },
  {
   "cell_type": "code",
   "execution_count": 10,
   "id": "c8d1b03b",
   "metadata": {},
   "outputs": [],
   "source": [
    "# from torch.optim import optimizer\n",
    "\n",
    "# criterion = torch.nn.MSELoss()\n",
    "# optimizer = torch.optim.SGD(model.parameters(), lr=0.01, momentum=0.9)\n",
    "# scheduler = torch.optim.lr_scheduler.LambdaLR(optimizer=optimizer, lr_lambda=lambda epoch: 0.95 ** epoch)\n",
    "\n",
    "# for epoch in range(1, 100+1): \n",
    "#     for x, y in dataloader: \n",
    "#         optimizer.zero_grad()\n",
    "# loss_fn(model(x), y).backward()\n",
    "# optimizer.step()\n",
    "# scheduler.step()"
   ]
  },
  {
   "cell_type": "markdown",
   "id": "62874efa",
   "metadata": {},
   "source": [
    "## 모델 훈련"
   ]
  },
  {
   "cell_type": "markdown",
   "id": "858807c5",
   "metadata": {},
   "source": [
    "학습을 한다는 것은 함수의 기울기(w)와 bias(b)의 적정값을 찾는 다는 것입니다.  \n",
    "학습을 반복하며 오차를 줄여 w,b를 업데이트 합니다.\n",
    "파이토치의 loss.backward() 사용 시 새로운 기울기 값이 이전 기울기 값에 누적됩니다. 누적 계산이 필요 없을 때는 optimizer.zero_grad()로 초기화 해 줄 필요가 있습니다.\n",
    "\n",
    "<img src=\"2-9.png\" width = 500></img>\n",
    "\n",
    "코드 상으로는 다음의 형태를 가집니다."
   ]
  },
  {
   "cell_type": "code",
   "execution_count": 11,
   "id": "5eb0930b",
   "metadata": {},
   "outputs": [],
   "source": [
    "# for epoch in range(100):\n",
    "#     yhat = model(x_train)\n",
    "#     loss = criterion(yhat, y_train)\n",
    "#     optimizer.zero_grad()\n",
    "#     loss.backward()\n",
    "#     optimizer.step()"
   ]
  },
  {
   "cell_type": "markdown",
   "id": "f5e40d07",
   "metadata": {},
   "source": [
    "## 모델 평가"
   ]
  },
  {
   "cell_type": "markdown",
   "id": "5f98fc82",
   "metadata": {},
   "source": [
    "모델의 평가는 테스트 데이터셋을 통해 이루어지고 함수를 사용하는 방법과 모듈을 사용하는 방법이 있습니다.  \n",
    "두가지 평가방법은 모두 torchmetrics 라는 라이브러리가 요구됩니다.\n",
    "* pip install torchmetrics\n",
    "\n",
    "이 외로 사이킷런 모듈에서 제공하는 혼동 행렬을 이용할 수 있습니다."
   ]
  },
  {
   "cell_type": "markdown",
   "id": "e2d8ffcc",
   "metadata": {},
   "source": [
    "함수를 사용하는 예시"
   ]
  },
  {
   "cell_type": "code",
   "execution_count": 12,
   "id": "8ec1a949",
   "metadata": {},
   "outputs": [],
   "source": [
    "import torch\n",
    "import torchmetrics\n",
    "\n",
    "preds = torch.randn(10, 5).softmax(dim=-1)\n",
    "target = torch.randint(5, (10,))\n",
    "\n",
    "acc = torchmetrics.functional.accuracy(preds, target)"
   ]
  },
  {
   "cell_type": "markdown",
   "id": "de72d3ea",
   "metadata": {},
   "source": [
    "모듈을 사용하는 예시"
   ]
  },
  {
   "cell_type": "code",
   "execution_count": 13,
   "id": "b4fa4d61",
   "metadata": {
    "scrolled": true
   },
   "outputs": [
    {
     "name": "stdout",
     "output_type": "stream",
     "text": [
      "Accuracy on batch 0: 0.10000000149011612\n",
      "Accuracy on batch 1: 0.0\n",
      "Accuracy on batch 2: 0.0\n",
      "Accuracy on batch 3: 0.10000000149011612\n",
      "Accuracy on batch 4: 0.30000001192092896\n",
      "Accuracy on batch 5: 0.30000001192092896\n",
      "Accuracy on batch 6: 0.4000000059604645\n",
      "Accuracy on batch 7: 0.10000000149011612\n",
      "Accuracy on batch 8: 0.10000000149011612\n",
      "Accuracy on batch 9: 0.4000000059604645\n",
      "Accuracy on all data: 0.18000000715255737\n"
     ]
    }
   ],
   "source": [
    "import torch\n",
    "import torchmetrics\n",
    "\n",
    "metric = torchmetrics.Accuracy() \n",
    "n_batches = 10\n",
    "\n",
    "for i in range(n_batches):\n",
    "    preds = torch.randn(10, 5).softmax(dim=-1)\n",
    "    target = torch.randint(5, (10,))\n",
    "\n",
    "    acc = metric(preds, target)\n",
    "    print(f\"Accuracy on batch {i}: {acc}\")\n",
    "\n",
    "acc = metric.compute()\n",
    "print(f\"Accuracy on all data: {acc}\")"
   ]
  },
  {
   "cell_type": "markdown",
   "id": "b85097a6",
   "metadata": {},
   "source": [
    "## 훈련과정 모니터링"
   ]
  },
  {
   "cell_type": "markdown",
   "id": "73dfc860",
   "metadata": {},
   "source": [
    "훈련과정을 중간에 파라미터를 확인하고 싶지만, 코드상으로 보는 것은 가독성이 떨어집니다.  \n",
    "가독성이 있는 모니터링을 위해 텐서보드를 사용합니다. 텐서보드를 사용하기 위해 패키지를 설치합니다.\n",
    "\n",
    "* pip install tensorboard \n"
   ]
  },
  {
   "cell_type": "code",
   "execution_count": 14,
   "id": "4e4c6242",
   "metadata": {},
   "outputs": [],
   "source": [
    "# import torch\n",
    "# from torch.utils.tensorboard import SummaryWriter\n",
    "# writer = SummaryWriter(\"../chap02/tensorboard\")\n",
    "\n",
    "# num_epochs = 10\n",
    "# for epoch in range(num_epochs):\n",
    "#     model.train()\n",
    "#     batch_loss = 0.0\n",
    "\n",
    "#     for i, (x, y) in enumerate(dataloader):\n",
    "#         x, y = x.to(device).float(), y.to(device).float()\n",
    "#         outputs = model(x)\n",
    "#         loss = criterion(outputs, y)\n",
    "#         writer.add_scalar(\"Loss\", loss, epoch)\n",
    "#         optimizer.zero_grad()\n",
    "#         loss.backward()\n",
    "#         optimizer.step()\n",
    "\n",
    "# writer.close()"
   ]
  },
  {
   "cell_type": "markdown",
   "id": "0e4ee284",
   "metadata": {},
   "source": [
    "prompt에 입력하면 접근을 위한 웹 사이트가 주어집니다.\n",
    "\n",
    "* tensorboard --logdir=../chap02/tensorboard --port=6006\n",
    "<img src=\"2-10.png\" width = 700></img>\n",
    "<img src=\"tensorboard.png\" width = 700></img>"
   ]
  },
  {
   "cell_type": "markdown",
   "id": "9179c22e",
   "metadata": {},
   "source": [
    "이외에도 모델의 모니터링 뿐만 아니라 검증과 테스트에도 사용 할 수 있습니다.  \n",
    "이 때는 model.train 이 아닌 model.eval 을 사용하게 됩니다. eval을 사용시 모든 노드를 사용합니다."
   ]
  },
  {
   "cell_type": "code",
   "execution_count": 15,
   "id": "3c614325",
   "metadata": {},
   "outputs": [],
   "source": [
    "# model.eval()\n",
    "# with torch.no_grad():\n",
    "#     valid_loss = 0\n",
    "\n",
    "#     for x, y in valid_dataloader:\n",
    "#         outputs = model(x)\n",
    "#         loss = F.cross_entropy(outputs, y.long().squeeze())\n",
    "#         valid_loss += float(loss)\n",
    "#         y_hat += [outputs]\n",
    "\n",
    "# valid_loss = valid_loss / len(valid_loader)"
   ]
  },
  {
   "cell_type": "markdown",
   "id": "864bd340",
   "metadata": {},
   "source": [
    "## 2.4 파이토치 코드"
   ]
  },
  {
   "cell_type": "markdown",
   "id": "ad6f4cbe",
   "metadata": {},
   "source": [
    "예제파일을 사용하여 몇가지 코드를 사용해봅니다.  \n",
    "파일의 내용은 다음과 같습니다.\n",
    "\n",
    "<img src=\"examplecsv.png\" width = 700></img>\n",
    "7번째 열인 차 상태를 예측하는 코드를 구현합니다.  \n",
    "필요한 라이브러리는 다음과 같습니다. 없으면 새로 인스톨을 하고, 있다면 업그레이드를 진행합니다.\n",
    "\n",
    "Install\n",
    "* pip install matplotlib : 2D/3D 의 그래프를 그리는 라이브러리\n",
    "* pip install seaborn : 데이터 프레임으로 시각화 차트를 제공하는 라이브러리\n",
    "* pip install scikit-learn : 분류,회귀,군집,의사결정트리 등 머신러닝 알고리즘 함수를 제공하는 라이브러리\n",
    "\n",
    "Upgrade  \n",
    "* pip install --upgrade matplotlib --use-feature=2020-resolver\n",
    "* pip install --upgrade seaborn --use-feature=2020-resolver\n",
    "* pip install --upgrade scikit-learn --use-feature=2020-resolver"
   ]
  },
  {
   "cell_type": "code",
   "execution_count": 16,
   "id": "2eb0b094",
   "metadata": {},
   "outputs": [],
   "source": [
    "import torch\n",
    "import torch.nn as nn\n",
    "import numpy as np \n",
    "import pandas as pd \n",
    "import matplotlib.pyplot as plt\n",
    "import seaborn as sns\n",
    "%matplotlib inline"
   ]
  },
  {
   "cell_type": "markdown",
   "id": "2ee2c618",
   "metadata": {},
   "source": [
    "### 데이터 준비"
   ]
  },
  {
   "cell_type": "code",
   "execution_count": 17,
   "id": "cf6a8949",
   "metadata": {
    "scrolled": true
   },
   "outputs": [
    {
     "data": {
      "text/html": [
       "<div>\n",
       "<style scoped>\n",
       "    .dataframe tbody tr th:only-of-type {\n",
       "        vertical-align: middle;\n",
       "    }\n",
       "\n",
       "    .dataframe tbody tr th {\n",
       "        vertical-align: top;\n",
       "    }\n",
       "\n",
       "    .dataframe thead th {\n",
       "        text-align: right;\n",
       "    }\n",
       "</style>\n",
       "<table border=\"1\" class=\"dataframe\">\n",
       "  <thead>\n",
       "    <tr style=\"text-align: right;\">\n",
       "      <th></th>\n",
       "      <th>price</th>\n",
       "      <th>maint</th>\n",
       "      <th>doors</th>\n",
       "      <th>persons</th>\n",
       "      <th>lug_capacity</th>\n",
       "      <th>safety</th>\n",
       "      <th>output</th>\n",
       "    </tr>\n",
       "  </thead>\n",
       "  <tbody>\n",
       "    <tr>\n",
       "      <th>0</th>\n",
       "      <td>vhigh</td>\n",
       "      <td>vhigh</td>\n",
       "      <td>2</td>\n",
       "      <td>2</td>\n",
       "      <td>small</td>\n",
       "      <td>low</td>\n",
       "      <td>unacc</td>\n",
       "    </tr>\n",
       "    <tr>\n",
       "      <th>1</th>\n",
       "      <td>vhigh</td>\n",
       "      <td>vhigh</td>\n",
       "      <td>2</td>\n",
       "      <td>2</td>\n",
       "      <td>small</td>\n",
       "      <td>med</td>\n",
       "      <td>unacc</td>\n",
       "    </tr>\n",
       "    <tr>\n",
       "      <th>2</th>\n",
       "      <td>vhigh</td>\n",
       "      <td>vhigh</td>\n",
       "      <td>2</td>\n",
       "      <td>2</td>\n",
       "      <td>small</td>\n",
       "      <td>high</td>\n",
       "      <td>unacc</td>\n",
       "    </tr>\n",
       "    <tr>\n",
       "      <th>3</th>\n",
       "      <td>vhigh</td>\n",
       "      <td>vhigh</td>\n",
       "      <td>2</td>\n",
       "      <td>2</td>\n",
       "      <td>med</td>\n",
       "      <td>low</td>\n",
       "      <td>unacc</td>\n",
       "    </tr>\n",
       "    <tr>\n",
       "      <th>4</th>\n",
       "      <td>vhigh</td>\n",
       "      <td>vhigh</td>\n",
       "      <td>2</td>\n",
       "      <td>2</td>\n",
       "      <td>med</td>\n",
       "      <td>med</td>\n",
       "      <td>unacc</td>\n",
       "    </tr>\n",
       "  </tbody>\n",
       "</table>\n",
       "</div>"
      ],
      "text/plain": [
       "   price  maint doors persons lug_capacity safety output\n",
       "0  vhigh  vhigh     2       2        small    low  unacc\n",
       "1  vhigh  vhigh     2       2        small    med  unacc\n",
       "2  vhigh  vhigh     2       2        small   high  unacc\n",
       "3  vhigh  vhigh     2       2          med    low  unacc\n",
       "4  vhigh  vhigh     2       2          med    med  unacc"
      ]
     },
     "execution_count": 17,
     "metadata": {},
     "output_type": "execute_result"
    }
   ],
   "source": [
    "dataset = pd.read_csv('car_evaluation.csv')\n",
    "dataset.head()"
   ]
  },
  {
   "cell_type": "code",
   "execution_count": 18,
   "id": "54db7b35",
   "metadata": {},
   "outputs": [
    {
     "data": {
      "text/plain": [
       "<AxesSubplot:ylabel='output'>"
      ]
     },
     "execution_count": 18,
     "metadata": {},
     "output_type": "execute_result"
    },
    {
     "data": {
      "image/png": "[encoded data removed]",
      "text/plain": [
       "<Figure size 800x600 with 1 Axes>"
      ]
     },
     "metadata": {},
     "output_type": "display_data"
    }
   ],
   "source": [
    "fig_size = plt.rcParams[\"figure.figsize\"]\n",
    "fig_size[0] = 8\n",
    "fig_size[1] = 6\n",
    "plt.rcParams[\"figure.figsize\"] = fig_size\n",
    "dataset.output.value_counts().plot(kind='pie', autopct='%0.05f%%', colors=['lightblue', 'lightgreen', 'orange', 'pink'], explode=(0.05, 0.05, 0.05, 0.05))"
   ]
  },
  {
   "cell_type": "markdown",
   "id": "c0833a5f",
   "metadata": {},
   "source": [
    "이미지 대로 결과는 70%의 불가영역, 20%의 허용상태 나머지 10%의 양호한 상태로 나타납니다.  \n",
    "앞서 딥러닝에서 텍스트나 이미지는 숫자로 변환해야 한다고 했었습니다. 이를 위해서 데이터 전처리를 진행합니다.  \n",
    "예제 파일은 범주형 데이터에 속합니다. astype()을 이용해 범주형 타입으로 변환하여 뽑을 수 있습니다."
   ]
  },
  {
   "cell_type": "markdown",
   "id": "dbace4aa",
   "metadata": {},
   "source": [
    "#### 데이터 변환"
   ]
  },
  {
   "cell_type": "code",
   "execution_count": 19,
   "id": "202a5837",
   "metadata": {},
   "outputs": [
    {
     "data": {
      "text/plain": [
       "array([[3, 3, 0, 0, 2, 1],\n",
       "       [3, 3, 0, 0, 2, 2],\n",
       "       [3, 3, 0, 0, 2, 0],\n",
       "       [3, 3, 0, 0, 1, 1],\n",
       "       [3, 3, 0, 0, 1, 2],\n",
       "       [3, 3, 0, 0, 1, 0],\n",
       "       [3, 3, 0, 0, 0, 1],\n",
       "       [3, 3, 0, 0, 0, 2],\n",
       "       [3, 3, 0, 0, 0, 0],\n",
       "       [3, 3, 0, 1, 2, 1]], dtype=int8)"
      ]
     },
     "execution_count": 19,
     "metadata": {},
     "output_type": "execute_result"
    }
   ],
   "source": [
    "categorical_columns = ['price', 'maint', 'doors', 'persons', 'lug_capacity', 'safety']\n",
    "\n",
    "for category in categorical_columns:\n",
    "    dataset[category] = dataset[category].astype('category') \n",
    "\n",
    "price = dataset['price'].cat.codes.values\n",
    "maint = dataset['maint'].cat.codes.values\n",
    "doors = dataset['doors'].cat.codes.values\n",
    "persons = dataset['persons'].cat.codes.values\n",
    "lug_capacity = dataset['lug_capacity'].cat.codes.values\n",
    "safety = dataset['safety'].cat.codes.values\n",
    "\n",
    "categorical_data = np.stack([price, maint, doors, persons, lug_capacity, safety], 1)\n",
    "categorical_data[:10]"
   ]
  },
  {
   "cell_type": "markdown",
   "id": "a8e67d02",
   "metadata": {},
   "source": [
    "뽑은 카테고리 배열을 텐서로 변환합니다."
   ]
  },
  {
   "cell_type": "code",
   "execution_count": 20,
   "id": "91c9721d",
   "metadata": {},
   "outputs": [
    {
     "data": {
      "text/plain": [
       "tensor([[3, 3, 0, 0, 2, 1],\n",
       "        [3, 3, 0, 0, 2, 2],\n",
       "        [3, 3, 0, 0, 2, 0],\n",
       "        [3, 3, 0, 0, 1, 1],\n",
       "        [3, 3, 0, 0, 1, 2]])"
      ]
     },
     "execution_count": 20,
     "metadata": {},
     "output_type": "execute_result"
    }
   ],
   "source": [
    "categorical_data = torch.tensor(categorical_data, dtype=torch.int64)\n",
    "categorical_data[:5]"
   ]
  },
  {
   "cell_type": "markdown",
   "id": "57d58b76",
   "metadata": {},
   "source": [
    "아웃풋으로 사용할 열을 텐서로 변환합니다."
   ]
  },
  {
   "cell_type": "code",
   "execution_count": 21,
   "id": "af6dbe20",
   "metadata": {},
   "outputs": [
    {
     "name": "stdout",
     "output_type": "stream",
     "text": [
      "torch.Size([1728, 6])\n",
      "torch.Size([6912])\n"
     ]
    }
   ],
   "source": [
    "outputs = pd.get_dummies(dataset.output) \n",
    "outputs = outputs.values\n",
    "outputs = torch.tensor(outputs).flatten()\n",
    "\n",
    "print(categorical_data.shape)\n",
    "print(outputs.shape)"
   ]
  },
  {
   "cell_type": "markdown",
   "id": "951e5ced",
   "metadata": {},
   "source": [
    "get_dummies는 문자를 숫자로 변환시켜줍니다. 다음은 그 예시입니다."
   ]
  },
  {
   "cell_type": "code",
   "execution_count": 22,
   "id": "c7eec4e9",
   "metadata": {},
   "outputs": [
    {
     "data": {
      "text/html": [
       "<div>\n",
       "<style scoped>\n",
       "    .dataframe tbody tr th:only-of-type {\n",
       "        vertical-align: middle;\n",
       "    }\n",
       "\n",
       "    .dataframe tbody tr th {\n",
       "        vertical-align: top;\n",
       "    }\n",
       "\n",
       "    .dataframe thead th {\n",
       "        text-align: right;\n",
       "    }\n",
       "</style>\n",
       "<table border=\"1\" class=\"dataframe\">\n",
       "  <thead>\n",
       "    <tr style=\"text-align: right;\">\n",
       "      <th></th>\n",
       "      <th>gender</th>\n",
       "      <th>weight</th>\n",
       "      <th>nation</th>\n",
       "    </tr>\n",
       "  </thead>\n",
       "  <tbody>\n",
       "    <tr>\n",
       "      <th>0</th>\n",
       "      <td>male</td>\n",
       "      <td>72</td>\n",
       "      <td>Japan</td>\n",
       "    </tr>\n",
       "    <tr>\n",
       "      <th>1</th>\n",
       "      <td>female</td>\n",
       "      <td>55</td>\n",
       "      <td>Korea</td>\n",
       "    </tr>\n",
       "    <tr>\n",
       "      <th>2</th>\n",
       "      <td>male</td>\n",
       "      <td>68</td>\n",
       "      <td>Australia</td>\n",
       "    </tr>\n",
       "  </tbody>\n",
       "</table>\n",
       "</div>"
      ],
      "text/plain": [
       "   gender  weight     nation\n",
       "0    male      72      Japan\n",
       "1  female      55      Korea\n",
       "2    male      68  Australia"
      ]
     },
     "execution_count": 22,
     "metadata": {},
     "output_type": "execute_result"
    }
   ],
   "source": [
    "import pandas as pd\n",
    "import numpy as np\n",
    "\n",
    "data = {\n",
    "    'gender' : ['male','female','male'],\n",
    "    'weight' : [72,55,68],\n",
    "    'nation' : ['Japan','Korea','Australia']\n",
    "}\n",
    "\n",
    "df = pd.DataFrame(data)\n",
    "df"
   ]
  },
  {
   "cell_type": "code",
   "execution_count": 23,
   "id": "a7c057bd",
   "metadata": {},
   "outputs": [
    {
     "data": {
      "text/html": [
       "<div>\n",
       "<style scoped>\n",
       "    .dataframe tbody tr th:only-of-type {\n",
       "        vertical-align: middle;\n",
       "    }\n",
       "\n",
       "    .dataframe tbody tr th {\n",
       "        vertical-align: top;\n",
       "    }\n",
       "\n",
       "    .dataframe thead th {\n",
       "        text-align: right;\n",
       "    }\n",
       "</style>\n",
       "<table border=\"1\" class=\"dataframe\">\n",
       "  <thead>\n",
       "    <tr style=\"text-align: right;\">\n",
       "      <th></th>\n",
       "      <th>weight</th>\n",
       "      <th>gender_female</th>\n",
       "      <th>gender_male</th>\n",
       "      <th>nation_Australia</th>\n",
       "      <th>nation_Japan</th>\n",
       "      <th>nation_Korea</th>\n",
       "    </tr>\n",
       "  </thead>\n",
       "  <tbody>\n",
       "    <tr>\n",
       "      <th>0</th>\n",
       "      <td>72</td>\n",
       "      <td>0</td>\n",
       "      <td>1</td>\n",
       "      <td>0</td>\n",
       "      <td>1</td>\n",
       "      <td>0</td>\n",
       "    </tr>\n",
       "    <tr>\n",
       "      <th>1</th>\n",
       "      <td>55</td>\n",
       "      <td>1</td>\n",
       "      <td>0</td>\n",
       "      <td>0</td>\n",
       "      <td>0</td>\n",
       "      <td>1</td>\n",
       "    </tr>\n",
       "    <tr>\n",
       "      <th>2</th>\n",
       "      <td>68</td>\n",
       "      <td>0</td>\n",
       "      <td>1</td>\n",
       "      <td>1</td>\n",
       "      <td>0</td>\n",
       "      <td>0</td>\n",
       "    </tr>\n",
       "  </tbody>\n",
       "</table>\n",
       "</div>"
      ],
      "text/plain": [
       "   weight  gender_female  gender_male  nation_Australia  nation_Japan  \\\n",
       "0      72              0            1                 0             1   \n",
       "1      55              1            0                 0             0   \n",
       "2      68              0            1                 1             0   \n",
       "\n",
       "   nation_Korea  \n",
       "0             0  \n",
       "1             1  \n",
       "2             0  "
      ]
     },
     "execution_count": 23,
     "metadata": {},
     "output_type": "execute_result"
    }
   ],
   "source": [
    "pd.get_dummies(df)"
   ]
  },
  {
   "cell_type": "markdown",
   "id": "95c8ad2e",
   "metadata": {},
   "source": [
    "열과 항목별로 분리되서 문자가 구분되었습니다. 본래 숫자였던 무게는 그대로 나오는 것도 확인할 수 있습니다."
   ]
  },
  {
   "cell_type": "markdown",
   "id": "0fac640e",
   "metadata": {},
   "source": [
    "#### 워드 임베딩"
   ]
  },
  {
   "cell_type": "markdown",
   "id": "f9232233",
   "metadata": {},
   "source": [
    "워드 임베딩은 유사한 단어는 유사하게 인코딩 되도록 유도하는 것입니다. 이를 위해 칼럼을 적당한 크기로 차원을 분할합니다. 이 때 적당한 크기는 보통 칼럼의 값 종류의 절반을 많이 사용합니다."
   ]
  },
  {
   "cell_type": "code",
   "execution_count": 24,
   "id": "d3924368",
   "metadata": {},
   "outputs": [
    {
     "name": "stdout",
     "output_type": "stream",
     "text": [
      "[(4, 2), (4, 2), (4, 2), (3, 2), (3, 2), (3, 2)]\n"
     ]
    }
   ],
   "source": [
    "categorical_column_sizes = [len(dataset[column].cat.categories) for column in categorical_columns]\n",
    "categorical_embedding_sizes = [(col_size, min(50, (col_size+1)//2)) for col_size in categorical_column_sizes]\n",
    "print(categorical_embedding_sizes)"
   ]
  },
  {
   "cell_type": "markdown",
   "id": "c0914704",
   "metadata": {},
   "source": [
    "#### 데이터셋 분리"
   ]
  },
  {
   "cell_type": "markdown",
   "id": "c0ff882c",
   "metadata": {},
   "source": [
    "데이터간의 비교를 위해 가진 데이터셋을 훈련/테스트 용으로 분리합니다."
   ]
  },
  {
   "cell_type": "code",
   "execution_count": 25,
   "id": "a771579f",
   "metadata": {},
   "outputs": [
    {
     "name": "stdout",
     "output_type": "stream",
     "text": [
      "train data :  1383\n",
      "train output :  1383\n",
      "test data :  345\n",
      "test output :  345\n"
     ]
    }
   ],
   "source": [
    "total_records = 1728\n",
    "test_records = int(total_records * .2)\n",
    "\n",
    "categorical_train_data = categorical_data[:total_records - test_records]\n",
    "categorical_test_data = categorical_data[total_records - test_records:total_records]\n",
    "train_outputs = outputs[:total_records - test_records]\n",
    "test_outputs = outputs[total_records - test_records:total_records]\n",
    "\n",
    "print('train data : ', len(categorical_train_data))\n",
    "print('train output : ',len(train_outputs))\n",
    "print('test data : ',len(categorical_test_data))\n",
    "print('test output : ',len(test_outputs))"
   ]
  },
  {
   "cell_type": "code",
   "execution_count": 26,
   "id": "64ca239a",
   "metadata": {},
   "outputs": [
    {
     "data": {
      "text/plain": [
       "tensor([[3, 3, 0, 0, 2, 1],\n",
       "        [3, 3, 0, 0, 2, 2],\n",
       "        [3, 3, 0, 0, 2, 0],\n",
       "        ...,\n",
       "        [1, 3, 3, 0, 1, 1],\n",
       "        [1, 3, 3, 0, 1, 2],\n",
       "        [1, 3, 3, 0, 1, 0]])"
      ]
     },
     "execution_count": 26,
     "metadata": {},
     "output_type": "execute_result"
    }
   ],
   "source": [
    "categorical_train_data"
   ]
  },
  {
   "cell_type": "markdown",
   "id": "5063dbed",
   "metadata": {},
   "source": [
    "#### 모델 네트워크 생성"
   ]
  },
  {
   "cell_type": "code",
   "execution_count": 27,
   "id": "fc40ee24",
   "metadata": {},
   "outputs": [],
   "source": [
    "class Model(nn.Module):\n",
    "    def __init__(self, embedding_size, output_size, layers, p=0.4): \n",
    "        super().__init__() \n",
    "        self.all_embeddings = nn.ModuleList([nn.Embedding(ni, nf) for ni, nf in embedding_size])\n",
    "        self.embedding_dropout = nn.Dropout(p)\n",
    "\n",
    "        all_layers = []\n",
    "        num_categorical_cols = sum((nf for ni, nf in embedding_size))\n",
    "        input_size = num_categorical_cols\n",
    "\n",
    "        for i in layers:\n",
    "            all_layers.append(nn.Linear(input_size, i))\n",
    "            all_layers.append(nn.ReLU(inplace=True))\n",
    "            all_layers.append(nn.BatchNorm1d(i))\n",
    "            all_layers.append(nn.Dropout(p))\n",
    "            input_size = i\n",
    "\n",
    "        all_layers.append(nn.Linear(layers[-1], output_size))\n",
    "        self.layers = nn.Sequential(*all_layers)\n",
    "\n",
    "    def forward(self, x_categorical):\n",
    "        embeddings = []\n",
    "        for i,e in enumerate(self.all_embeddings):\n",
    "            embeddings.append(e(x_categorical[:,i]))\n",
    "        x = torch.cat(embeddings, 1)\n",
    "        x = self.embedding_dropout(x)\n",
    "        x = self.layers(x)\n",
    "        return x"
   ]
  },
  {
   "cell_type": "markdown",
   "id": "7bf71dd2",
   "metadata": {},
   "source": [
    "#### 모델 객체 생성"
   ]
  },
  {
   "cell_type": "code",
   "execution_count": 28,
   "id": "c8570be2",
   "metadata": {},
   "outputs": [
    {
     "name": "stdout",
     "output_type": "stream",
     "text": [
      "Model(\n",
      "  (all_embeddings): ModuleList(\n",
      "    (0): Embedding(4, 2)\n",
      "    (1): Embedding(4, 2)\n",
      "    (2): Embedding(4, 2)\n",
      "    (3): Embedding(3, 2)\n",
      "    (4): Embedding(3, 2)\n",
      "    (5): Embedding(3, 2)\n",
      "  )\n",
      "  (embedding_dropout): Dropout(p=0.4, inplace=False)\n",
      "  (layers): Sequential(\n",
      "    (0): Linear(in_features=12, out_features=200, bias=True)\n",
      "    (1): ReLU(inplace=True)\n",
      "    (2): BatchNorm1d(200, eps=1e-05, momentum=0.1, affine=True, track_running_stats=True)\n",
      "    (3): Dropout(p=0.4, inplace=False)\n",
      "    (4): Linear(in_features=200, out_features=100, bias=True)\n",
      "    (5): ReLU(inplace=True)\n",
      "    (6): BatchNorm1d(100, eps=1e-05, momentum=0.1, affine=True, track_running_stats=True)\n",
      "    (7): Dropout(p=0.4, inplace=False)\n",
      "    (8): Linear(in_features=100, out_features=50, bias=True)\n",
      "    (9): ReLU(inplace=True)\n",
      "    (10): BatchNorm1d(50, eps=1e-05, momentum=0.1, affine=True, track_running_stats=True)\n",
      "    (11): Dropout(p=0.4, inplace=False)\n",
      "    (12): Linear(in_features=50, out_features=4, bias=True)\n",
      "  )\n",
      ")\n"
     ]
    }
   ],
   "source": [
    "model = Model(categorical_embedding_sizes, 4, [200,100,50], p=0.4) # embedding_size, output_size, layers, p\n",
    "print(model)"
   ]
  },
  {
   "cell_type": "markdown",
   "id": "f3d89fdf",
   "metadata": {},
   "source": [
    "#### 손실할수, 옵티마이저 정의"
   ]
  },
  {
   "cell_type": "markdown",
   "id": "a6fbf842",
   "metadata": {},
   "source": [
    "데이터 분류에서 쓰이는 손실함수는 cross entoropy이며, 옵티마이저는 Adam을 사용합니다."
   ]
  },
  {
   "cell_type": "code",
   "execution_count": 29,
   "id": "3d918809",
   "metadata": {},
   "outputs": [],
   "source": [
    "loss_function = nn.CrossEntropyLoss()\n",
    "optimizer = torch.optim.Adam(model.parameters(), lr=0.001)"
   ]
  },
  {
   "cell_type": "markdown",
   "id": "550f09a2",
   "metadata": {},
   "source": [
    "#### > CPU/GPU 변경"
   ]
  },
  {
   "cell_type": "code",
   "execution_count": 30,
   "id": "6fc28111",
   "metadata": {},
   "outputs": [],
   "source": [
    "if torch.cuda.is_available():\n",
    "    device = torch.device('cuda')\n",
    "else:\n",
    "    device = torch.device('cpu')"
   ]
  },
  {
   "cell_type": "markdown",
   "id": "295b7e00",
   "metadata": {},
   "source": [
    "#### 학습 진행"
   ]
  },
  {
   "cell_type": "code",
   "execution_count": 31,
   "id": "1dd2a14f",
   "metadata": {},
   "outputs": [
    {
     "name": "stdout",
     "output_type": "stream",
     "text": [
      "epoch:   1 loss: 1.55114949\n",
      "epoch:  26 loss: 1.37025082\n",
      "epoch:  51 loss: 1.27766967\n",
      "epoch:  76 loss: 1.19486129\n",
      "epoch: 101 loss: 1.05937755\n",
      "epoch: 126 loss: 0.91385806\n",
      "epoch: 151 loss: 0.84689975\n",
      "epoch: 176 loss: 0.74302506\n",
      "epoch: 201 loss: 0.68360686\n",
      "epoch: 226 loss: 0.66849041\n",
      "epoch: 251 loss: 0.62983906\n",
      "epoch: 276 loss: 0.62588149\n",
      "epoch: 301 loss: 0.60513145\n",
      "epoch: 326 loss: 0.60492128\n",
      "epoch: 351 loss: 0.59430146\n",
      "epoch: 376 loss: 0.58470976\n",
      "epoch: 401 loss: 0.58446199\n",
      "epoch: 426 loss: 0.57461971\n",
      "epoch: 451 loss: 0.57565933\n",
      "epoch: 476 loss: 0.57541728\n",
      "epoch: 500 loss: 0.5773746371\n"
     ]
    }
   ],
   "source": [
    "epochs = 500\n",
    "aggregated_losses = []\n",
    "train_outputs = train_outputs.to(device=torch.device('cpu'), dtype=torch.int64)\n",
    "for i in range(epochs):\n",
    "    i += 1\n",
    "    y_pred = model(categorical_train_data)\n",
    "    single_loss = loss_function(y_pred, train_outputs)\n",
    "    aggregated_losses.append(single_loss)\n",
    "\n",
    "    if i%25 == 1:\n",
    "        print(f'epoch: {i:3} loss: {single_loss.item():10.8f}')\n",
    "\n",
    "    optimizer.zero_grad()\n",
    "    single_loss.backward()\n",
    "    optimizer.step()\n",
    "\n",
    "print(f'epoch: {i:3} loss: {single_loss.item():10.10f}') "
   ]
  },
  {
   "cell_type": "markdown",
   "id": "f638b1dc",
   "metadata": {},
   "source": [
    "#### 모델 테스트"
   ]
  },
  {
   "cell_type": "markdown",
   "id": "217ab35d",
   "metadata": {},
   "source": [
    "학습이 끝나면 테스트를 할 차례입니다.  \n",
    "앞에서 분할했던 데이터셋을 모델에 적용시키면 됩니다.  "
   ]
  },
  {
   "cell_type": "code",
   "execution_count": 32,
   "id": "b0b5fefa",
   "metadata": {},
   "outputs": [
    {
     "name": "stdout",
     "output_type": "stream",
     "text": [
      "Loss: 0.56007779\n"
     ]
    }
   ],
   "source": [
    "test_outputs = test_outputs.to(device=torch.device('cpu'), dtype=torch.int64)\n",
    "with torch.no_grad():\n",
    "    y_val = model(categorical_test_data)\n",
    "    loss = loss_function(y_val, test_outputs)\n",
    "print(f'Loss: {loss:.8f}')"
   ]
  },
  {
   "cell_type": "markdown",
   "id": "4ac9b209",
   "metadata": {},
   "source": [
    "테스트 상의 손실 값과 학습에서의 손실값이 비슷한 것으로 과적합은 없다는 것을 알 수 있습니다."
   ]
  },
  {
   "cell_type": "code",
   "execution_count": 33,
   "id": "050905fb",
   "metadata": {},
   "outputs": [
    {
     "name": "stdout",
     "output_type": "stream",
     "text": [
      "torch.Size([345, 4])\n"
     ]
    }
   ],
   "source": [
    "print(y_val.shape)"
   ]
  },
  {
   "cell_type": "code",
   "execution_count": 34,
   "id": "462a21e6",
   "metadata": {},
   "outputs": [
    {
     "name": "stdout",
     "output_type": "stream",
     "text": [
      "tensor([[ 2.8803,  1.6164, -3.5301, -3.7523],\n",
      "        [ 2.8611,  1.7441, -3.6770, -3.8482],\n",
      "        [ 1.6909,  0.8945, -2.7427, -2.6535],\n",
      "        [ 2.4260,  1.3452, -3.1996, -3.4322],\n",
      "        [ 2.4905,  1.4429, -4.0331, -3.5756]])\n"
     ]
    }
   ],
   "source": [
    "print(y_val[:5])"
   ]
  },
  {
   "cell_type": "markdown",
   "id": "d552073e",
   "metadata": {},
   "source": [
    "본래 목적인 모델의 예측을 확인하기 위해 출력층을 뽑아봤지만, 가독성이 떨어집니다."
   ]
  },
  {
   "cell_type": "code",
   "execution_count": 35,
   "id": "72cf409c",
   "metadata": {},
   "outputs": [
    {
     "name": "stdout",
     "output_type": "stream",
     "text": [
      "tensor([0, 0, 0, 0, 0])\n"
     ]
    }
   ],
   "source": [
    "y_val = np.argmax(y_val, axis=1)\n",
    "print(y_val[:5])"
   ]
  },
  {
   "cell_type": "code",
   "execution_count": 36,
   "id": "60ff4380",
   "metadata": {},
   "outputs": [
    {
     "name": "stdout",
     "output_type": "stream",
     "text": [
      "[[259   0]\n",
      " [ 85   1]]\n",
      "              precision    recall  f1-score   support\n",
      "\n",
      "           0       0.75      1.00      0.86       259\n",
      "           1       1.00      0.01      0.02        86\n",
      "\n",
      "    accuracy                           0.75       345\n",
      "   macro avg       0.88      0.51      0.44       345\n",
      "weighted avg       0.81      0.75      0.65       345\n",
      "\n",
      "0.7536231884057971\n"
     ]
    }
   ],
   "source": [
    "from sklearn.metrics import classification_report, confusion_matrix, accuracy_score\n",
    "\n",
    "print(confusion_matrix(test_outputs,y_val))\n",
    "print(classification_report(test_outputs,y_val))\n",
    "print(accuracy_score(test_outputs, y_val))"
   ]
  },
  {
   "cell_type": "markdown",
   "id": "c935bf4f",
   "metadata": {},
   "source": [
    "#### 딥러닝 분류 모델의 성능 평가"
   ]
  },
  {
   "cell_type": "markdown",
   "id": "8f1d92ca",
   "metadata": {},
   "source": [
    "성능 평가 지표에는 정확도, 재현율, 정밀도, F1-스코어 라는 것이 존재합니다.\n",
    "이를 계산하기 위해 4가지 분류의 용어가 사용됩니다.\n",
    "\n",
    "* True Positive : 모델의 출력값이 1이고, 실제 값도 1인 경우\n",
    "* True Nagative : 모델의 출력값이 0이고, 실제 값도 0인 경우\n",
    "* False Positive : 모델의 출력값이 1이지만, 실제 값은 0인 경우\n",
    "* False Nagative : 모델의 출력값은 0이지만, 실제 값은 1인 경우\n"
   ]
  },
  {
   "cell_type": "markdown",
   "id": "007a55dc",
   "metadata": {},
   "source": [
    "* 정확도(Accuracy) : 전체 예측 건수 중 정답의 비율 입니다. \n",
    "\n",
    "$${True Positive + True Negative \\over True Positive + True Negative + False Positive + False Negative}$$\n",
    "\n",
    "* 재현율(Recall) : 정답이 1일 때 모델 출력값이 1인 비율입니다.\n",
    "\n",
    "$${True Positive \\over True Positive + False Negative}$$\n",
    "\n",
    "* 정밀도(Precision) : 모델의 출력값이 1일 때 실제 값이 1인 비율입니다.\n",
    "\n",
    "$${True Positive \\over True Positive + False Positive}$$\n",
    "\n",
    "* F-1 스코어 : 정밀도와 재현율은 트레이드오프 관계라고 합니다. 한 쪽이 높으면 한 쪽이 낮아지는 관계를 말합니다. 이를 조화롭게 평균을 낸 것을 일컫습니다.\n",
    "\n",
    "$$ 2 * {Precision * Recall \\over Precision + Recall}$$"
   ]
  },
  {
   "cell_type": "markdown",
   "id": "73a8e0f3",
   "metadata": {},
   "source": [
    "#### stack의 작동"
   ]
  },
  {
   "cell_type": "code",
   "execution_count": 37,
   "id": "e33546b7",
   "metadata": {},
   "outputs": [
    {
     "name": "stdout",
     "output_type": "stream",
     "text": [
      "[[1 2]\n",
      " [3 4]] (2, 2)\n",
      "-----axis=0-----\n",
      "[[[1 2]\n",
      "  [3 4]]] (1, 2, 2)\n",
      "-----axis=1-----\n",
      "[[[1 2]]\n",
      "\n",
      " [[3 4]]] (2, 1, 2)\n",
      "-----sxis=2------\n",
      "[[[1]\n",
      "  [2]]\n",
      "\n",
      " [[3]\n",
      "  [4]]] (2, 2, 1)\n",
      "-----stack-----\n",
      "-----axis0-----\n",
      "[[[1 2]\n",
      "  [3 4]]\n",
      "\n",
      " [[5 6]\n",
      "  [7 8]]]\n",
      "-----axis1-----\n",
      "[[[1 2]\n",
      "  [5 6]]\n",
      "\n",
      " [[3 4]\n",
      "  [7 8]]]\n",
      "-----axis2-----\n",
      "[[[1 5]\n",
      "  [2 6]]\n",
      "\n",
      " [[3 7]\n",
      "  [4 8]]]\n"
     ]
    }
   ],
   "source": [
    "a = np.array([[1,2],[3,4]])\n",
    "b = np.array([[5,6],[7,8]])\n",
    "\n",
    "\n",
    "print(a,a.shape)\n",
    "print('-----axis=0-----')\n",
    "print(a.reshape(1,2,2), a.reshape(1,2,2).shape)\n",
    "print('-----axis=1-----')\n",
    "print(a.reshape(2,1,2), a.reshape(2,1,2).shape)\n",
    "print('-----sxis=2------')\n",
    "print(a.reshape(2,2,1), a.reshape(2,2,1).shape)\n",
    "\n",
    "print('-----stack-----')\n",
    "print('-----axis0-----')\n",
    "print(np.stack((a,b),axis=0))\n",
    "print('-----axis1-----')\n",
    "print(np.stack((a,b),axis=1))\n",
    "print('-----axis2-----')\n",
    "print(np.stack((a,b),axis=2))"
   ]
  },
  {
   "cell_type": "markdown",
   "id": "71c172a4",
   "metadata": {},
   "source": [
    "<img src=\"stack1.png\" width = 500></img>\n",
    "<img src=\"stack2.png\" width = 500></img>"
   ]
  },
  {
   "cell_type": "markdown",
   "id": "ffaa5843",
   "metadata": {},
   "source": []
  },
  {
   "cell_type": "code",
   "execution_count": null,
   "id": "a85a4eb1",
   "metadata": {},
   "outputs": [],
   "source": []
  }
 ],
 "metadata": {
  "kernelspec": {
   "display_name": "torch_book",
   "language": "python",
   "name": "torch_book"
  },
  "language_info": {
   "codemirror_mode": {
    "name": "ipython",
    "version": 3
   },
   "file_extension": ".py",
   "mimetype": "text/x-python",
   "name": "python",
   "nbconvert_exporter": "python",
   "pygments_lexer": "ipython3",
   "version": "3.9.0"
  }
 },
 "nbformat": 4,
 "nbformat_minor": 5
}
